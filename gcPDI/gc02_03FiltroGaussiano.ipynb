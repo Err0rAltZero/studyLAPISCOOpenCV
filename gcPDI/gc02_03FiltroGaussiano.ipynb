{
 "cells": [
  {
   "cell_type": "code",
   "execution_count": 1,
   "metadata": {},
   "outputs": [],
   "source": [
    "#Inicialização\n",
    "import cv2 as cv\n",
    "import numpy as np \n",
    "import matplotlib.pyplot as plt\n",
    "import math as m\n",
    "from IPython.display import Image"
   ]
  },
  {
   "cell_type": "code",
   "execution_count": null,
   "metadata": {},
   "outputs": [],
   "source": [
    "#Imagens básicas como entrada\n",
    "img00 = cv.imread(\"../gcPDI/imgSimple/00sDot.png\",0)\n",
    "img01 = cv.imread(\"../gcPDI/imgSimple/01sHorizontal.png\",0)\n",
    "img02 = cv.imread(\"../gcPDI/imgSimple/02sVertical.png\",0)\n",
    "img03 = cv.imread(\"../gcPDI/imgSimple/03sX.png\",0)\n",
    "img04 = cv.imread(\"../gcPDI/imgSimple/04sSquare.png\",0)\n",
    "img05 = cv.imread(\"../gcPDI/imgSimple/05sCircle.png\",0)\n",
    "img10 = cv.imread(\"../gcPDI/imgSimple/10mDots.png\",0)\n",
    "img11 = cv.imread(\"../gcPDI/imgSimple/11mHorizontals.png\",0)\n",
    "img12 = cv.imread(\"../gcPDI/imgSimple/12mHorizontals2.png\",0)\n",
    "img13 = cv.imread(\"../gcPDI/imgSimple/13mVerticals.png\",0)\n",
    "img14 = cv.imread(\"../gcPDI/imgSimple/14mVerticals2.png\",0)\n",
    "img15 = cv.imread(\"../gcPDI/imgSimple/15mSquares.png\",0)\n",
    "img16 = cv.imread(\"../gcPDI/imgSimple/16mCircles.png\",0)\n",
    "img20 = cv.imread(\"../gcPDI/imgSimple/20random.png\",0)\n",
    "img21 = cv.imread(\"../gcPDI/imgSimple/21colorRandom.png\",0)\n",
    "simpleImg = [img00, img01, img02, img03, img04, img05, img10, img11, img12, img13, img14, img15, img16, img20, img21]              \n",
    "for i in range(15):\n",
    "    plt.subplot(3,5,i+1)\n",
    "    plt.imshow(simpleImg[i],cmap='gray')\n",
    "    plt.xticks([]),plt.yticks([])\n",
    "plt.show()"
   ]
  },
  {
   "cell_type": "markdown",
   "metadata": {},
   "source": [
    "# Gaussiano\n",
    "(Gaussian Blur, Gaussian Smoothing)"
   ]
  },
  {
   "cell_type": "markdown",
   "metadata": {},
   "source": [
    "## Teoria"
   ]
  },
  {
   "cell_type": "code",
   "execution_count": null,
   "metadata": {},
   "outputs": [],
   "source": []
  }
 ],
 "metadata": {
  "kernelspec": {
   "display_name": "Python envLapiscoPDI",
   "language": "python",
   "name": "envlapiscopdi"
  },
  "language_info": {
   "codemirror_mode": {
    "name": "ipython",
    "version": 3
   },
   "file_extension": ".py",
   "mimetype": "text/x-python",
   "name": "python",
   "nbconvert_exporter": "python",
   "pygments_lexer": "ipython3",
   "version": "3.8.5"
  }
 },
 "nbformat": 4,
 "nbformat_minor": 4
}
