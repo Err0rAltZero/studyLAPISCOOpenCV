{
 "cells": [
  {
   "cell_type": "markdown",
   "metadata": {},
   "source": [
    "# Outras Operações"
   ]
  },
  {
   "cell_type": "code",
   "execution_count": null,
   "metadata": {},
   "outputs": [],
   "source": [
    "#Inicialização\n",
    "import cv2 as cv\n",
    "import numpy as np \n",
    "import matplotlib.pyplot as plt\n",
    "import math as m\n",
    "import navFunc as nf\n",
    "from navFunc.cls import cls\n",
    "from IPython.display import Image"
   ]
  },
  {
   "cell_type": "code",
   "execution_count": null,
   "metadata": {},
   "outputs": [],
   "source": [
    "img0 = cv.imread('../gcPDI/imgPDI/gray21.512.tiff')\n",
    "img1 = cv.imread('../gcPDI/imgPDI/maleGray.tiff')\n",
    "img2 = cv.imread('../gcPDI/imgPDI/boat.512.tiff')\n",
    "img3 = cv.imread('../gcPDI/imgPDI/4.1.07.tiff')\n",
    "img4 = cv.imread('../gcPDI/imgPDI/female01.tiff')\n",
    "img5 = cv.imread('../gcPDI/imgPDI/lake.tiff')\n",
    "img6 = cv.imread('../gcPDI/imgMy/glitch.jpg')\n",
    "img7 = cv.imread('../gcPDI/imgMy/kodimnoisy300.jpg')\n",
    "img8 = cv.imread('../gcPDI/imgMy/londonddg.jpg')\n",
    "imgArray = [img0,img1,img2,img3,img4,img5,img6,img7,img8] #\n",
    "imgMatrix = [[img0, img1, img2],[img3,img4,img5],[img6,img7,img8]] #Formato para ajudar no plot\n",
    "titleMatrix = [[\"gray\",\"maleGray\",\"boat\"],[\"beans\",\"female\",\"lake\"],[\"glitch\",\"kodimNoisy\",\"londonddg\"]]"
   ]
  },
  {
   "cell_type": "code",
   "execution_count": null,
   "metadata": {},
   "outputs": [],
   "source": [
    "#Início: Script de plotagem\n",
    "f, axarr = plt.subplots(3, 3, constrained_layout=True)\n",
    "f.set_figheight(12)\n",
    "f.set_figwidth(12) \n",
    "#Matrix[i][j]\n",
    "for i in range(3):\n",
    "    for j in range(3):\n",
    "        dst=cv.cvtColor(imgMatrix[i][j],cv.COLOR_BGR2RGB)\n",
    "        axarr[i,j].imshow(dst)\n",
    "        axarr[i,j].set_title(titleMatrix[i][j])\n",
    "f.suptitle(\"Imagens originais em análise\",fontsize=18)\n",
    "plt.show()\n",
    "#Final"
   ]
  }
 ],
 "metadata": {
  "kernelspec": {
   "display_name": "Python envLapiscoPDI",
   "language": "python",
   "name": "envlapiscopdi"
  },
  "language_info": {
   "codemirror_mode": {
    "name": "ipython",
    "version": 3
   },
   "file_extension": ".py",
   "mimetype": "text/x-python",
   "name": "python",
   "nbconvert_exporter": "python",
   "pygments_lexer": "ipython3",
   "version": "3.8.5"
  }
 },
 "nbformat": 4,
 "nbformat_minor": 4
}
